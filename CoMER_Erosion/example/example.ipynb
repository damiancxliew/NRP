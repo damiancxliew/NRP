{
 "cells": [
  {
   "cell_type": "code",
   "execution_count": 9,
   "metadata": {},
   "outputs": [],
   "source": [
    "from comer.datamodule import vocab\n",
    "from comer.lit_comer import LitCoMER\n",
    "from torchvision.transforms import ToTensor\n",
    "import torch\n",
    "from PIL import Image\n",
    "from IPython.display import display"
   ]
  },
  {
   "cell_type": "code",
   "execution_count": 323,
   "metadata": {},
   "outputs": [],
   "source": [
    "ckpt = '../lightning_logs/version_1/checkpoints/epoch=165-step=249165-val_ExpRate=0.6416.ckpt'\n",
    "# ckpt = '../lightning_logs/version_0/checkpoints/epoch=151-step=57151-val_ExpRate=0.6365.ckpt'"
   ]
  },
  {
   "cell_type": "code",
   "execution_count": 324,
   "metadata": {},
   "outputs": [],
   "source": [
    "model = LitCoMER.load_from_checkpoint(ckpt)\n",
    "model = model.eval()\n",
    "device = torch.device(\"cpu\")\n",
    "model = model.to(device)"
   ]
  },
  {
   "cell_type": "code",
   "execution_count": 325,
   "metadata": {},
   "outputs": [
    {
     "data": {
      "image/png": "[encoded data removed]",
      "text/plain": [
       "<PIL.BmpImagePlugin.BmpImageFile image mode=L size=314x150>"
      ]
     },
     "metadata": {},
     "output_type": "display_data"
    }
   ],
   "source": [
    "# img_path = 'UN19_1019_em_267.bmp'\n",
    "# img_path = 'UN19_1041_em_595.bmp'\n",
    "img_path = 'RIT_2014_242.bmp'\n",
    "img = Image.open(img_path)\n",
    "display(img)"
   ]
  },
  {
   "cell_type": "code",
   "execution_count": 326,
   "metadata": {},
   "outputs": [],
   "source": [
    "# import cv2 as cv\n",
    "# import numpy as np\n",
    "# img = cv.imread(img_path,0)\n",
    "# # img3 = cv.imread(img_path_2,0)\n",
    "# kernel = np.ones((3,3),np.uint8)\n",
    "# erosion = cv.erode(img,kernel,iterations = 1)\n",
    "# # erosion2 = cv.erode(img3,kernel,iterations = 1)\n",
    "# # print(type(erosion))\n",
    "# # Image.open(img)\n",
    "# Image.fromarray(erosion)"
   ]
  },
  {
   "cell_type": "code",
   "execution_count": 327,
   "metadata": {},
   "outputs": [
    {
     "name": "stdout",
     "output_type": "stream",
     "text": [
      "3 a _ { 1 } a _ { 1 } a _ { 2 } a _ { 3 } a _ { 4 } z\n"
     ]
    }
   ],
   "source": [
    "# img = ToTensor()(erosion)\n",
    "img = ToTensor()(img)\n",
    "mask = torch.zeros_like(img, dtype=torch.bool)\n",
    "hyp = model.approximate_joint_search(img.unsqueeze(0), mask)[0]\n",
    "pred_latex = vocab.indices2label(hyp.seq)\n",
    "print(pred_latex)"
   ]
  },
  {
   "cell_type": "code",
   "execution_count": 5,
   "metadata": {},
   "outputs": [],
   "source": [
    "img = ToTensor()(img)\n",
    "mask = torch.zeros_like(img, dtype=torch.bool)\n",
    "hyp = model.approximate_joint_search(img.unsqueeze(0), mask)[0]\n",
    "pred_latex = vocab.indices2label(hyp.seq)"
   ]
  },
  {
   "cell_type": "code",
   "execution_count": 6,
   "metadata": {},
   "outputs": [
    {
     "name": "stdout",
     "output_type": "stream",
     "text": [
      "\\frac { 6 } { \\sqrt { 3 6 0 } }\n"
     ]
    }
   ],
   "source": [
    "print(pred_latex)"
   ]
  },
  {
   "cell_type": "code",
   "execution_count": null,
   "metadata": {},
   "outputs": [],
   "source": []
  }
 ],
 "metadata": {
  "kernelspec": {
   "display_name": "CoMER",
   "language": "python",
   "name": "python3"
  },
  "language_info": {
   "codemirror_mode": {
    "name": "ipython",
    "version": 3
   },
   "file_extension": ".py",
   "mimetype": "text/x-python",
   "name": "python",
   "nbconvert_exporter": "python",
   "pygments_lexer": "ipython3",
   "version": "3.7.15"
  },
  "orig_nbformat": 4,
  "vscode": {
   "interpreter": {
    "hash": "20204d15d630cf374ec22ced9e467d9118d763f84deaef14131d0e2ac221ff4f"
   }
  }
 },
 "nbformat": 4,
 "nbformat_minor": 2
}
